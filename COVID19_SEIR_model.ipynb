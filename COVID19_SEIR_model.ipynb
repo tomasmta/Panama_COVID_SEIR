{
  "nbformat": 4,
  "nbformat_minor": 0,
  "metadata": {
    "colab": {
      "name": "COVID19 SEIR  model.ipynb",
      "provenance": [],
      "collapsed_sections": [],
      "authorship_tag": "ABX9TyPAngUkj1+SN4b0zq3nqeOk",
      "include_colab_link": true
    },
    "kernelspec": {
      "name": "python3",
      "display_name": "Python 3"
    },
    "language_info": {
      "name": "python"
    }
  },
  "cells": [
    {
      "cell_type": "markdown",
      "metadata": {
        "id": "view-in-github",
        "colab_type": "text"
      },
      "source": [
        "<a href=\"https://colab.research.google.com/github/tomasmta/Panama_COVID_SEIR/blob/main/COVID19_SEIR_model.ipynb\" target=\"_parent\"><img src=\"https://colab.research.google.com/assets/colab-badge.svg\" alt=\"Open In Colab\"/></a>"
      ]
    },
    {
      "cell_type": "markdown",
      "source": [
        "# Cleaning COVID data for Panama\n",
        "* Source: [Johns Hopkins Covid Repository](https://github.com/CSSEGISandData/COVID-19)\n",
        "\n",
        "Other resources:\n",
        "* [Coding SEIR equations](https://www.youtube.com/watch?v=aU4jfY5E_ic)\n",
        "* [ourworldindata.org](https://ourworldindata.org/coronavirus)\n",
        "* [A Simulation of a COVID-19 Epidemic Based on a Deterministic SEIR Model](https://www.frontiersin.org/articles/10.3389/fpubh.2020.00230/full)"
      ],
      "metadata": {
        "id": "45s-DRoagzuO"
      }
    },
    {
      "cell_type": "code",
      "execution_count": null,
      "metadata": {
        "id": "kT50oD7AgqZg"
      },
      "outputs": [],
      "source": [
        "# specify the number of days from data \n",
        "num_days = 120"
      ]
    },
    {
      "cell_type": "code",
      "source": [
        "import pandas as pd \n",
        "import seaborn as sns\n",
        "\n",
        "# Use seaborn style defaults and set the default figure size\n",
        "sns.set(rc={'figure.figsize':(16, 4)})\n",
        "\n",
        "# read csv\n",
        "confirmed = pd.read_csv('time_series_covid19_confirmed_global.csv')\n",
        "deaths = pd.read_csv('time_series_covid19_deaths_global.csv')\n",
        "recovered = pd.read_csv('time_series_covid19_recovered_global.csv')\n",
        "\n",
        "def clean(df,p):\n",
        "    df = df.loc[df['Country/Region']=='Panama']\n",
        "    df = df.drop(columns=['Country/Region', 'Lat', 'Long', 'Province/State'])\n",
        "    df = df.transpose()\n",
        "    df.rename(columns={df.columns[0]:p}, inplace=True)\n",
        "    return df\n",
        "\n",
        "re = clean(recovered, p ='recovered')\n",
        "d = clean(deaths, p = 'deaths')\n",
        "i = clean(confirmed, p = 'confirmed')\n",
        "pty = pd.concat([re,d,i], axis=1)\n",
        "pty = pty.loc[~(pty==0).all(axis=1)]\n",
        "duration = num_days\n",
        "pty = pty.iloc[0:duration] #511 #120\n",
        "columns= pty.columns\n",
        "pty[columns].plot(figsize=(16, 12), subplots=True)\n",
        "\n",
        "daily = pd.DataFrame(pty.diff())\n",
        "daily_columns = daily.columns\n",
        "\n",
        "daily[daily_columns].plot(figsize=(16, 12), subplots=True)\n",
        "\n",
        "actual_deaths = pty.deaths\n",
        "actual_deaths = actual_deaths.apply(lambda x: float(x))\n",
        "actual_deaths = actual_deaths.values.tolist()\n",
        "\n",
        "actual_recovered = pty.recovered\n",
        "actual_recovered = actual_recovered.apply(lambda x: float(x))\n",
        "actual_recovered = actual_recovered.values.tolist()\n",
        "\n",
        "actual_infected = pty.confirmed\n",
        "actual_infected = actual_infected.apply(lambda x: float(x))\n",
        "actual_infected = actual_infected.values.tolist()\n",
        "\n",
        "daily_deaths = daily.deaths\n",
        "daily_deaths = daily_deaths.apply(lambda x: float(x))\n",
        "daily_deaths = daily_deaths.values.tolist()"
      ],
      "metadata": {
        "id": "hPN515zXhKt2"
      },
      "execution_count": null,
      "outputs": []
    },
    {
      "cell_type": "markdown",
      "source": [
        "### Testing"
      ],
      "metadata": {
        "id": "_s5gFxB0hPey"
      }
    },
    {
      "cell_type": "code",
      "source": [
        "import matplotlib.pyplot as plt\n",
        "import numpy as np\n",
        "import seaborn as sns\n",
        "\n",
        "sns.set(rc={'figure.figsize':(16, 24)})\n",
        "SIZE = 20\n",
        "plt.rc('font', size=SIZE)          # controls default text sizes\n",
        "plt.rc('axes', titlesize=SIZE)     # fontsize of the axes title\n",
        "plt.rc('axes', labelsize=SIZE)    # fontsize of the x and y labels\n",
        "plt.rc('xtick', labelsize=SIZE)    # fontsize of the tick labels\n",
        "plt.rc('ytick', labelsize=SIZE)    # fontsize of the tick labels\n",
        "plt.rc('legend', fontsize=SIZE)    # legend fontsize\n",
        "plt.rc('figure', titlesize=SIZE)\n",
        "\n",
        "def SEIR(fatality, beta, E, incubation, infectious):\n",
        "    N0 = 4e6 # population of Panama\n",
        "    mort = 1/75 # death rate defined as inverse of avg life expectancy\n",
        "    birth = mort*N0 # Assuming birth rate is equal to death rate\n",
        "    end_time = len(pty) -1 \n",
        "    dt = 1\n",
        "    num_steps = int(end_time/dt)\n",
        "    \n",
        "    s = np.zeros(num_steps+1)\n",
        "    e = np.zeros(num_steps+1)\n",
        "    i = np.zeros(num_steps+1)\n",
        "    r = np.zeros(num_steps+1)\n",
        "    n = np.zeros(num_steps+1)\n",
        "    d = np.zeros(num_steps+1)\n",
        "    \n",
        "    e[0]= E\n",
        "    i[0]= 1\n",
        "    r[0]= 0\n",
        "    n[0]= N0\n",
        "    s[0]= N0 -e[0]-i[0]-r[0]\n",
        "    \n",
        "    for step in range(num_steps):\n",
        "        n[step+1]   = s[step]+e[step]+i[step]+r[step]\n",
        "        s2e = beta* s[step]*i[step]/n[step]\n",
        "        e2i = (1/incubation)*e[step]\n",
        "        i2r = (1/infectious)*i[step]\n",
        "        \n",
        "        s[step+1] = s[step] + dt*(birth-mort*s[step]-s2e)\n",
        "        e[step+1] = e[step] + dt*(s2e - e2i - mort*e[step])\n",
        "        i[step+1] = i[step] + dt*(e2i- i2r - (mort + fatality)*i[step])  \n",
        "        r[step+1] = r[step] + dt*i2r -dt*mort*r[step]\n",
        "        if step==0: pass\n",
        "        else: \n",
        "            d[step] = -1*(s[step]-s[step-1] + e[step]-e[step-1] + i[step]-i[step-1] + r[step]-r[step-1])                \n",
        "    return d,s,e,i,r\n",
        "\n",
        "\n",
        "def objective(x): \n",
        "    fatality,beta,exposed,incubation,infectious = x\n",
        "    d,s,e,i,r = SEIR(fatality,beta,exposed,incubation,infectious)\n",
        "    seir_deaths = np.cumsum(d)\n",
        "    seir_infected = np.array(i)\n",
        "    seir_recovered =  np.array(r)\n",
        "\n",
        "    d =  np.sqrt((seir_deaths - np.array(actual_deaths))  **2)\n",
        "    i =  np.sqrt((seir_infected-np.array(actual_infected))  **2)\n",
        "    r =  np.sqrt((seir_recovered-np.array(actual_recovered))  **2)\n",
        "    \n",
        "    cost = np.sum(1.0*d+1.0*r+1.0*i) \n",
        "    return cost \n",
        "\n",
        "# Run optimization n times\n",
        "def run_n_times(n):\n",
        "    list_results = []\n",
        "    list_parameters = []\n",
        "    for i in range(n):\n",
        "        r = spo.dual_annealing(objective, bounds)\n",
        "        list_results.append(r.fun)\n",
        "        list_parameters.append(r.x)\n",
        "        best_result = min(list_results)\n",
        "        best_parameters = list_parameters[list_results.index(best_result)]\n",
        "    return best_result, best_parameters"
      ],
      "metadata": {
        "id": "_vZcSjF6hSuS"
      },
      "execution_count": null,
      "outputs": []
    },
    {
      "cell_type": "markdown",
      "source": [
        "### Fit using Scipy Dual Annealing"
      ],
      "metadata": {
        "id": "KENG7uYNhX5V"
      }
    },
    {
      "cell_type": "code",
      "source": [
        "import scipy.optimize as spo\n",
        "bounds = [(9e-6,0.1),  # fatality \n",
        "          (0.1,0.99),    # beta probability of infection \n",
        "          (1,4000), # inital exposed\n",
        "          (3,9),        # incubation\n",
        "          (3,30)         # infectious period\n",
        "         ]\n",
        "best_result, best_parameters = run_n_times(10)\n",
        "print(f\"Best Results:{np.round(best_result,3)}\\nBest Parameters: {best_parameters}\")"
      ],
      "metadata": {
        "id": "6bQpTOUvhY3B"
      },
      "execution_count": null,
      "outputs": []
    },
    {
      "cell_type": "code",
      "source": [
        "### Checking results\n"
      ],
      "metadata": {
        "id": "7XsSgmJCheW7"
      },
      "execution_count": null,
      "outputs": []
    },
    {
      "cell_type": "code",
      "source": [
        "fatality, beta, E, incubation, infectious = best_parameters\n",
        "d,s,e,i,r= SEIR(fatality, beta, E, incubation, infectious)\n",
        "\n",
        "fig, ax = plt.subplots(4)\n",
        "ax[0].plot(np.cumsum(d), label=\"model deaths\")\n",
        "ax[0].plot(actual_deaths, label= 'actual deaths')\n",
        "ax[0].set_title('Comparing Number of Deaths')\n",
        "ax[0].legend(loc=\"best\")\n",
        "\n",
        "\n",
        "ax[1].plot(r, label=\"model recovery\")\n",
        "ax[1].plot(actual_recovered, label= 'actual ')\n",
        "ax[1].legend(loc=\"best\")\n",
        "ax[1].set_title('Comparing Number of Recovered')\n",
        "\n",
        "ax[2].plot(i, label=\"model infected\")\n",
        "ax[2].plot(actual_infected, label= 'actual infected')\n",
        "ax[2].legend(loc=\"best\")\n",
        "ax[2].set_title('Comparing Number of Confirmed')\n",
        "\n",
        "ax[3].plot(d[0:-1], label=\"Model Deaths\")\n",
        "ax[3].plot(daily_deaths[0:-1], label= 'Actual Daily Deaths')\n",
        "ax[3].legend(loc=\"best\")\n",
        "ax[3].set_title('Comparing Number Daily of Deaths')\n",
        "plt.show()"
      ],
      "metadata": {
        "id": "Pmc74ANbhkAl"
      },
      "execution_count": null,
      "outputs": []
    },
    {
      "cell_type": "markdown",
      "source": [
        "### Calculating Reproduction Number\n",
        "![image-2.png](attachment:image-2.png)"
      ],
      "metadata": {
        "id": "TfQeGTtahnPt"
      }
    },
    {
      "cell_type": "code",
      "source": [
        "inv_incubation = 1/incubation\n",
        "inv_recovery = 1/infectious\n",
        "mort = 1/75\n",
        "top = beta*inv_incubation\n",
        "bottom = (inv_incubation+mort)*(inv_recovery+mort+fatality)\n",
        "R0 = np.round(top/bottom,4)\n",
        "print(f\"Reproduction Number:{R0}\")"
      ],
      "metadata": {
        "id": "OCAkqIcuhm6f"
      },
      "execution_count": null,
      "outputs": []
    },
    {
      "cell_type": "markdown",
      "source": [
        "### Best combination of parameters"
      ],
      "metadata": {
        "id": "G0MJWJ5ghxDp"
      }
    },
    {
      "cell_type": "code",
      "source": [
        "parameters = list(['Fatality','Transmission Prob(beta)','Init Exposed(E0)','Incubation','Recovery'])\n",
        "for  i  in range(len(best_parameters)):\n",
        "    print(f\"{parameters[i]} = {np.round(best_parameters[i],4)}\\n\")"
      ],
      "metadata": {
        "id": "TUi_PxL8hycp"
      },
      "execution_count": null,
      "outputs": []
    }
  ]
}